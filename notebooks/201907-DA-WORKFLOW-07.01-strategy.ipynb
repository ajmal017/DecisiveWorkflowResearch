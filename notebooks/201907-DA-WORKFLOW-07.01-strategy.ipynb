{
 "cells": [
  {
   "cell_type": "code",
   "execution_count": null,
   "metadata": {},
   "outputs": [],
   "source": [
    "%%javascript\n",
    "IPython.OutputArea.prototype._should_scroll = function(lines) {\n",
    "    return false;\n",
    "}"
   ]
  },
  {
   "cell_type": "code",
   "execution_count": null,
   "metadata": {},
   "outputs": [],
   "source": [
    "%matplotlib inline\n",
    "%load_ext autoreload\n",
    "%autoreload 2"
   ]
  },
  {
   "cell_type": "code",
   "execution_count": null,
   "metadata": {},
   "outputs": [],
   "source": [
    "import os\n",
    "import pandas as pd\n",
    "import datetime\n",
    "import backtrader as bt"
   ]
  },
  {
   "cell_type": "code",
   "execution_count": null,
   "metadata": {},
   "outputs": [],
   "source": [
    "class St(bt.Strategy):\n",
    "    params = (('plot_on_top_frame', True),)\n",
    "\n",
    "    def __init__(self):\n",
    "        autoplot = self.p.plot_on_top_frame\n",
    "        self.pp = pp = bt.ind.PivotPoint(self.data1, _autoplot=autoplot)\n",
    "\n",
    "    def next(self):\n",
    "        print('.', end='')\n",
    "        if self.data.datetime.datetime(0).strftime('%H%M') == '1700':\n",
    "            print('PP [{:0.2f}]'.format(self.pp[0]))\n"
   ]
  },
  {
   "cell_type": "markdown",
   "metadata": {},
   "source": [
    "## Run"
   ]
  },
  {
   "cell_type": "code",
   "execution_count": null,
   "metadata": {},
   "outputs": [],
   "source": [
    "cerebro = bt.Cerebro()\n",
    "\n",
    "# Load data\n",
    "fname_symbol = 'CL'\n",
    "folder_name = '5min'\n",
    "suffix = '5min_20160103_20190405'\n",
    "\n",
    "df = pd.read_parquet(os.path.join('../data/processed/{}/'.format(folder_name), '{}_{}.parquet'.format(fname_symbol, suffix)))\n",
    "df.columns = [col_name.lower() for col_name in df.columns]\n",
    "df = df.dropna()\n",
    "\n",
    "data = bt.feeds.PandasData(dataname = df['2017-02-01':'2017-02-07'],\n",
    "                           timeframe=bt.TimeFrame.Minutes, \n",
    "                           compression=5,\n",
    "                           sessionstart=datetime.time(18, 0), \n",
    "                           sessionend=datetime.time(17, 0))\n",
    "\n",
    "cerebro.adddata(data)\n",
    "cerebro.resampledata(data, timeframe=bt.TimeFrame.Days)\n",
    "\n",
    "cerebro.addstrategy(St)\n",
    "\n",
    "cerebro.run(runonce=False)\n",
    "\n",
    "cerebro.plot(style='bar')"
   ]
  }
 ],
 "metadata": {
  "kernelspec": {
   "display_name": "Python 3",
   "language": "python",
   "name": "python3"
  },
  "language_info": {
   "codemirror_mode": {
    "name": "ipython",
    "version": 3
   },
   "file_extension": ".py",
   "mimetype": "text/x-python",
   "name": "python",
   "nbconvert_exporter": "python",
   "pygments_lexer": "ipython3",
   "version": "3.6.8"
  },
  "toc": {
   "base_numbering": 1,
   "nav_menu": {},
   "number_sections": true,
   "sideBar": true,
   "skip_h1_title": false,
   "title_cell": "Table of Contents",
   "title_sidebar": "Contents",
   "toc_cell": false,
   "toc_position": {
    "height": "calc(100% - 180px)",
    "left": "10px",
    "top": "150px",
    "width": "285.4px"
   },
   "toc_section_display": true,
   "toc_window_display": true
  }
 },
 "nbformat": 4,
 "nbformat_minor": 2
}
