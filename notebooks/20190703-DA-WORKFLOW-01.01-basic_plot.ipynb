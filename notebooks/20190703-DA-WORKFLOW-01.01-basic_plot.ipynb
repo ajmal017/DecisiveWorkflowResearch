{
 "cells": [
  {
   "cell_type": "code",
   "execution_count": null,
   "metadata": {},
   "outputs": [],
   "source": [
    "%matplotlib inline\n",
    "%load_ext autoreload\n",
    "%autoreload 2\n",
    "\n",
    "import pandas as pd\n",
    "import seaborn as sns\n",
    "import matplotlib.pyplot as plt\n",
    "import os\n",
    "\n",
    "sns.set()\n",
    "\n",
    "demo = False\n",
    "folder_name = 'demo' if demo else '5min'\n",
    "suffix = 'demo' if demo else '5min_20160103_20190405'\n",
    "symbols = ['CL', 'GC', 'ES']"
   ]
  },
  {
   "cell_type": "markdown",
   "metadata": {},
   "source": [
    "We're going to load the first symbol in the list, which is 'CL' (Crude Oil)"
   ]
  },
  {
   "cell_type": "code",
   "execution_count": null,
   "metadata": {},
   "outputs": [],
   "source": [
    "fname_symbol = symbols[0]\n",
    "df = pd.read_parquet(os.path.join('../data/processed/{}/'.format(folder_name), '{}_{}.parquet'.format(fname_symbol, suffix)))"
   ]
  },
  {
   "cell_type": "markdown",
   "metadata": {},
   "source": [
    "## Plot \n",
    "\n",
    "The parquet dataframe is a back-adjusted continuous contract in the 5-minute timeframe"
   ]
  },
  {
   "cell_type": "code",
   "execution_count": null,
   "metadata": {},
   "outputs": [],
   "source": [
    "df['2017-01-01':'2017-06-01']['Close'].plot()"
   ]
  },
  {
   "cell_type": "markdown",
   "metadata": {},
   "source": [
    "## Resample and Plot \n",
    "* the '4h' refers to the period, which is resampling 5-minute bars into 4-hour bars\n",
    "* base=18 specifies the timezone of this contract; for Crude Oil, is 18:00 (6pm) with EST (New York)\n"
   ]
  },
  {
   "cell_type": "code",
   "execution_count": null,
   "metadata": {},
   "outputs": [],
   "source": [
    "df_resampled = (df.resample('4h', label='left', base=18).agg({'Open': 'first', \n",
    "                                                              'High': 'max', \n",
    "                                                              'Low': 'min', \n",
    "                                                              'Close': 'last', \n",
    "                                                              'Volume': 'sum'}))\n",
    "df_resampled = df_resampled.dropna()\n",
    "df_resampled['2017-01-01':'2017-06-01']['Close'].plot()"
   ]
  }
 ],
 "metadata": {
  "kernelspec": {
   "display_name": "Python 3",
   "language": "python",
   "name": "python3"
  },
  "language_info": {
   "codemirror_mode": {
    "name": "ipython",
    "version": 3
   },
   "file_extension": ".py",
   "mimetype": "text/x-python",
   "name": "python",
   "nbconvert_exporter": "python",
   "pygments_lexer": "ipython3",
   "version": "3.6.8"
  },
  "toc": {
   "base_numbering": 1,
   "nav_menu": {},
   "number_sections": true,
   "sideBar": true,
   "skip_h1_title": false,
   "title_cell": "Table of Contents",
   "title_sidebar": "Contents",
   "toc_cell": false,
   "toc_position": {},
   "toc_section_display": true,
   "toc_window_display": false
  }
 },
 "nbformat": 4,
 "nbformat_minor": 2
}
