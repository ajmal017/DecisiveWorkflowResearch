{
 "cells": [
  {
   "cell_type": "code",
   "execution_count": null,
   "metadata": {
    "colab": {
     "base_uri": "https://localhost:8080/",
     "height": 210
    },
    "colab_type": "code",
    "id": "5nEGhAQoT-tE",
    "outputId": "e7e4dfd4-937c-407d-c17e-e92ec86d9c6f"
   },
   "outputs": [],
   "source": [
    "%matplotlib inline\n",
    "%load_ext autoreload\n",
    "%autoreload 2\n",
    "\n",
    "import datetime\n",
    "import os.path\n",
    "import backtrader as bt\n",
    "import pandas as pd\n",
    "import numpy as np"
   ]
  },
  {
   "cell_type": "markdown",
   "metadata": {
    "colab_type": "text",
    "id": "WwsNBrDrU0Kg"
   },
   "source": [
    "1. Select an instrument (CL, ES, or GC) and a timeframe, (i.e. 2016-2018).  \n",
    "2. Determine 20% of the timeframe as your Out-of-sample. \n",
    "2. (a) [OPTIONAL] Create an improvement to the existing strategy.  You will skip level04 and go to level05 if you choose this, mention this in the #promotion channel if you did this\n",
    "3. Apply one tick of slippage per contract per trade, i.e. $10 for CL and $20 roundtrip\n",
    "4. Target ~50 trades per parameter.  i.e. if you have two indicators and two parameters per indicator, you’d want about 200 trades in your in sample.  If you did not reach that number, extend your timeframe period\n",
    "5. Optimize the variables for your selected timeframe for Net Profit\n",
    "6. Apply your best performing parameters for your out-of-sample period\n",
    "\n"
   ]
  },
  {
   "cell_type": "markdown",
   "metadata": {
    "colab_type": "text",
    "id": "Ig7jwRQGT-tT"
   },
   "source": [
    "## Strategy"
   ]
  },
  {
   "cell_type": "code",
   "execution_count": null,
   "metadata": {
    "colab": {},
    "colab_type": "code",
    "id": "JP7v6wKQT-tW"
   },
   "outputs": [],
   "source": [
    "# Create a Stratey\n",
    "class TestStrategy(bt.Strategy):\n",
    "    params = (\n",
    "        ('bbperiod', 26),\n",
    "        ('printlog', False),\n",
    "        ('devfactor',2),\n",
    "    )\n",
    "\n",
    "    def log(self, txt, dt=None, doprint=False):\n",
    "        ''' Logging function for this strategy'''\n",
    "        if self.params.printlog or doprint:\n",
    "            dt = dt or self.datas[0].datetime.date(0)\n",
    "            print('%s, %s' % (dt.isoformat(), txt))\n",
    "\n",
    "    def __init__(self):\n",
    "        # Keep a reference to the \"close\" line in the data[0] dataseries\n",
    "        self.dataclose = self.datas[0].close\n",
    "\n",
    "        # To keep track of pending orders and buy price/commission\n",
    "        self.order = None\n",
    "        self.buyprice = None\n",
    "        self.buycomm = None\n",
    "\n",
    "        #indicators\n",
    "#        self.sma = bt.indicators.SimpleMovingAverage(\n",
    "#            self.datas[0], period=self.params.maperiod)\n",
    "        self.bband = bt.indicators.BBands(self.datas[0], period = self.params.bbperiod)\n",
    "\n",
    "\n",
    "    def notify_order(self, order):\n",
    "        if order.status in [order.Submitted, order.Accepted]:\n",
    "            # Buy/Sell order submitted/accepted to/by broker - Nothing to do\n",
    "            return\n",
    "\n",
    "        # Check if an order has been completed\n",
    "        # Attention: broker could reject order if not enough cash\n",
    "        if order.status in [order.Completed]:\n",
    "            if order.isbuy():\n",
    "                self.log(\n",
    "                    'BUY EXECUTED, Price: %.2f, Cost: %.2f, Comm %.2f' %\n",
    "                    (order.executed.price,\n",
    "                     order.executed.value,\n",
    "                     order.executed.comm))\n",
    "\n",
    "                self.buyprice = order.executed.price\n",
    "                self.buycomm = order.executed.comm\n",
    "            else:  # Sell\n",
    "                self.log('SELL EXECUTED, Price: %.2f, Cost: %.2f, Comm %.2f' %\n",
    "                         (order.executed.price,\n",
    "                          order.executed.value,\n",
    "                          order.executed.comm))\n",
    "\n",
    "            self.bar_executed = len(self)\n",
    "\n",
    "        elif order.status in [order.Canceled, order.Margin, order.Rejected]:\n",
    "            self.log('Order Canceled/Margin/Rejected')\n",
    "\n",
    "        # Write down: no pending order\n",
    "        self.order = None\n",
    "\n",
    "    def notify_trade(self, trade):\n",
    "        if not trade.isclosed:\n",
    "            return\n",
    "\n",
    "        self.log('OPERATION PROFIT, GROSS %.2f, NET %.2f' %\n",
    "                 (trade.pnl, trade.pnlcomm))\n",
    "\n",
    "    def next(self):\n",
    "        # Simply log the closing price of the series from the reference\n",
    "        self.log('Close, %.2f' % self.dataclose[0])\n",
    "\n",
    "        # Check if an order is pending ... if yes, we cannot send a 2nd one\n",
    "        if self.order:\n",
    "            return\n",
    "\n",
    "        # Check if we are in the market\n",
    "        if not self.position:\n",
    "\n",
    "            # Not yet ... we MIGHT BUY if ...\n",
    "            if self.dataclose[0] < self.bband.lines.bot:\n",
    "\n",
    "                # BUY, BUY, BUY!!! (with all possible default parameters)\n",
    "                self.log('BUY CREATE, %.2f' % self.dataclose[0])\n",
    "\n",
    "                # Keep track of the created order to avoid a 2nd order\n",
    "                self.order = self.buy()\n",
    "\n",
    "        else:\n",
    "\n",
    "            if self.dataclose[0] > self.bband.lines.top:\n",
    "                # SELL, SELL, SELL!!! (with all possible default parameters)\n",
    "                self.log('SELL CREATE, %.2f' % self.dataclose[0])\n",
    "\n",
    "                # Keep track of the created order to avoid a 2nd order\n",
    "                self.order = self.sell()\n",
    "\n",
    "    def stop(self):\n",
    "        self.log('(BB Period %2d, devfactor %2f) Ending Value %.2f' %\n",
    "                 (self.params.bbperiod, self.params.devfactor, self.broker.getvalue()), doprint=True)"
   ]
  },
  {
   "cell_type": "markdown",
   "metadata": {
    "colab_type": "text",
    "id": "oLpZMSmsHorP"
   },
   "source": [
    "helper class to analyze methods."
   ]
  },
  {
   "cell_type": "code",
   "execution_count": null,
   "metadata": {
    "colab": {},
    "colab_type": "code",
    "id": "QleqCoPeHqoQ"
   },
   "outputs": [],
   "source": [
    "class myAnalyzer(bt.Analyzer):\n",
    "    \n",
    "    def __init__(self):\n",
    "        \n",
    "        #self.bband = bt.indicators.BBands(self.datas[0], period = self.params.bbperiod)\n",
    "        self.bbperiod = self.strategy.params.bbperiod\n",
    "        self.devfactor = self.strategy.params.devfactor   \n",
    "        \n",
    "    def start(self):\n",
    "        self.init_cash = self.strategy.broker.cash \n",
    "        self.num_trades = 0\n",
    "\n",
    "    def notify_trade(self, trade):\n",
    "        self.num_trades += 1\n",
    "    \n",
    "    def stop(self):\n",
    "        self.final_cash = self.strategy.broker.cash\n",
    "        self.final_val = self.strategy.broker.get_value()\n",
    "\n",
    "    def get_analysis(self):\n",
    "        \n",
    "        output = {\n",
    "            'params': (self.bbperiod, self.devfactor), #, self.cross_factor),\n",
    "            'profit': self.final_val - self.init_cash,\n",
    "            '#trades': self.num_trades\n",
    "        }\n",
    "        \n",
    "        return output"
   ]
  },
  {
   "cell_type": "markdown",
   "metadata": {
    "colab_type": "text",
    "id": "KYeb_tP0T-tg"
   },
   "source": [
    "## Strategy Plot"
   ]
  },
  {
   "cell_type": "code",
   "execution_count": null,
   "metadata": {
    "colab": {},
    "colab_type": "code",
    "id": "I1TlCxdkT-ti"
   },
   "outputs": [],
   "source": [
    "class FixedSlippageAndCommisionScheme(bt.CommInfoBase):\n",
    "    '''Use this for both slippage and commissions together'''\n",
    "    params = (\n",
    "        ('commission', 10), \n",
    "        ('stocklike', True),\n",
    "        ('commtype', bt.CommInfoBase.COMM_FIXED),\n",
    "        )\n",
    "\n",
    "    def _getcommission(self, size, price, pseudoexec):\n",
    "        return self.p.commission"
   ]
  },
  {
   "cell_type": "code",
   "execution_count": null,
   "metadata": {
    "colab": {
     "base_uri": "https://localhost:8080/",
     "height": 801
    },
    "colab_type": "code",
    "id": "_GUHX6b4T-ts",
    "outputId": "1f4f5788-94a9-41c8-b7a0-4ebd8f6bf014"
   },
   "outputs": [],
   "source": [
    "# Create a cerebro entity\n",
    "cerebro = bt.Cerebro()\n",
    "\n",
    "# Add a strategy\n",
    "cerebro.addstrategy(TestStrategy)\n",
    "\n",
    "# Load data\n",
    "fname_symbol = 'CL' # use crude oil (CL)\n",
    "folder_name = '5min'\n",
    "suffix = '5min_20160103_20190405'\n",
    "\n",
    "df = pd.read_parquet(os.path.join('C:/Users/A/DecisiveWorkflowResearch/data/processed/{}/'.format(folder_name), '{}_{}.parquet'.format(fname_symbol, suffix)))\n",
    "df = (df.resample('2h', label='left', base=18).agg({'Open': 'first', 'High': 'max', 'Low': 'min', 'Close': 'last', 'Volume': 'sum'}))\n",
    "df.columns = [col_name.lower() for col_name in df.columns]\n",
    "df = df.dropna()\n",
    "\n",
    "data = bt.feeds.PandasData(dataname = df['2016-01-01':'2017-03-31']) # in sample data\n",
    "\n",
    "# Add the Data Feed to Cerebro\n",
    "cerebro.adddata(data)\n",
    "\n",
    "# Set our desired cash start\n",
    "cerebro.broker.setcash(100000.0)\n",
    "\n",
    "cerebro.addsizer(bt.sizers.FixedSize, stake=1000)\n",
    "\n",
    "# We're trading futures, so we'll use the \"commissions\" to handle both slippage and commissions\n",
    "slippage_and_comms = FixedSlippageAndCommisionScheme()\n",
    "cerebro.broker.addcommissioninfo(slippage_and_comms)\n",
    "\n",
    "# Alternatively, you can use:\n",
    "# cerebro.broker.setcommission(commission=0.0)\n",
    "# cerebro.broker.set_slippage_fixed(.00,  slip_open=True, slip_limit=True, slip_match=True, slip_out=True)\n",
    "\n",
    "\n",
    "# Print out the starting conditions\n",
    "print('Starting Portfolio Value: %.2f' % cerebro.broker.getvalue())\n",
    "\n",
    "# Run over everything\n",
    "cerebro.run()\n",
    "\n",
    "# Print out the final result\n",
    "print('Final Portfolio Value: %.2f' % cerebro.broker.getvalue())\n"
   ]
  },
  {
   "cell_type": "markdown",
   "metadata": {
    "colab_type": "text",
    "id": "pwQ9pej7T-t3"
   },
   "source": [
    "## In-sample Optimization"
   ]
  },
  {
   "cell_type": "code",
   "execution_count": null,
   "metadata": {
    "colab": {
     "base_uri": "https://localhost:8080/",
     "height": 1000
    },
    "colab_type": "code",
    "id": "AyqypspdT-t5",
    "outputId": "1443f1d0-cd15-44fb-ae5a-56c887ccef32"
   },
   "outputs": [],
   "source": [
    "# Create a cerebro entity\n",
    "cerebro = bt.Cerebro()\n",
    "\n",
    "# Add a strategy\n",
    "strats = cerebro.optstrategy(\n",
    "    TestStrategy,\n",
    "    bbperiod=range(15, 30),\n",
    "    devfactor = np.linspace(1.5,3,4),\n",
    ")   # range of values to let model optimized\n",
    "\n",
    "cerebro.addanalyzer(bt.analyzers.SharpeRatio, _name='mysharpe')\n",
    "cerebro.addanalyzer(myAnalyzer, _name='myAnalyzer')\n",
    "cerebro.addanalyzer(bt.analyzers.DrawDown, _name='drawdown')\n",
    "\n",
    "# Add the Data Feed to Cerebro\n",
    "cerebro.adddata(data)\n",
    "\n",
    "# Set our desired cash start\n",
    "cerebro.broker.setcash(100000.0)\n",
    "\n",
    "# Add a FixedSize sizer according to the stake\n",
    "cerebro.addsizer(bt.sizers.FixedSize, stake=1000)\n",
    "\n",
    "# We're trading futures, so we'll use the \"commissions\" to handle both slippage and commissions\n",
    "slippage_and_comms = FixedSlippageAndCommisionScheme()\n",
    "cerebro.broker.addcommissioninfo(slippage_and_comms)\n",
    "\n",
    "# Run over everything\n",
    "results = cerebro.run(maxcpus=1)"
   ]
  },
  {
   "cell_type": "code",
   "execution_count": null,
   "metadata": {
    "colab": {
     "base_uri": "https://localhost:8080/",
     "height": 69
    },
    "colab_type": "code",
    "id": "T7CLyXPnIkO_",
    "outputId": "9d78b694-6564-4384-9843-63bdf135f49a"
   },
   "outputs": [],
   "source": [
    "params  = []\n",
    "num_trades = []\n",
    "profit   = []\n",
    "for res in results:\n",
    "    r = res[0].analyzers.myAnalyzer.get_analysis()\n",
    "    params.append(r['params'])\n",
    "    num_trades.append(r['#trades'])\n",
    "    profit.append(r['profit'])\n",
    "    \n",
    "prof_ind = np.argmax(profit)\n",
    "best_params = params[prof_ind]\n",
    "print(\"Best Parameters: \",best_params,\"\\nTotal Profit: \", profit[prof_ind], \"\\nNumber of Trades: \", num_trades[prof_ind])"
   ]
  },
  {
   "cell_type": "code",
   "execution_count": null,
   "metadata": {},
   "outputs": [],
   "source": [
    "\n",
    "# Create a cerebro entity\n",
    "cerebro = bt.Cerebro()\n",
    "\n",
    "# Add a strategy\n",
    "cerebro.addstrategy(TestStrategy, bbperiod=19, devfactor=1.5)\n",
    "cerebro.addanalyzer(myAnalyzer, _name='myAnalyzer')\n",
    "cerebro.addanalyzer(bt.analyzers.SharpeRatio, _name='sharpe')\n",
    "cerebro.addanalyzer(bt.analyzers.DrawDown, _name='drawdown')\n",
    "\n",
    "\n",
    "data = bt.feeds.PandasData(dataname = df['2016-01-01':'2017-03-31'])\n",
    "\n",
    "# Add the Data Feed to Cerebro\n",
    "cerebro.adddata(data)\n",
    "\n",
    "# Set our desired cash start\n",
    "cerebro.broker.setcash(100000.0)\n",
    "cerebro.addsizer(bt.sizers.FixedSize, stake=1000)\n",
    "\n",
    "# We're trading futures, so we'll use the \"commissions\" to handle both slippage and commissions\n",
    "slippage_and_comms = FixedSlippageAndCommisionScheme()\n",
    "cerebro.broker.addcommissioninfo(slippage_and_comms)\n",
    "\n",
    "# Print out the starting conditions\n",
    "print('Starting Portfolio Value: %.2f' % cerebro.broker.getvalue())\n",
    "\n",
    "# Run over everything\n",
    "result_in = cerebro.run()\n",
    "\n",
    "in_sharpe=result_in[0].analyzers.sharpe.get_analysis()\n",
    "print('Sharpe Ratio:', in_sharpe)\n",
    "\n",
    "# Print out the final result\n",
    "print('Final in sample Portfolio Value: %.2f' % cerebro.broker.getvalue())\n",
    "\n",
    "cerebro.plot(volume=False, iplot=False)"
   ]
  },
  {
   "cell_type": "markdown",
   "metadata": {
    "colab_type": "text",
    "id": "L7_ADeMkT-uD"
   },
   "source": [
    "## Out-of-Sample"
   ]
  },
  {
   "cell_type": "code",
   "execution_count": null,
   "metadata": {
    "colab": {
     "base_uri": "https://localhost:8080/",
     "height": 818
    },
    "colab_type": "code",
    "id": "CSRbeaK2T-uF",
    "outputId": "4b646a2b-ff4e-4a67-df78-a86dda0984f0"
   },
   "outputs": [],
   "source": [
    "# Create a cerebro entity\n",
    "cerebro = bt.Cerebro()\n",
    "\n",
    "# Add a strategy\n",
    "cerebro.addstrategy(TestStrategy, bbperiod=19, devfactor=1.5)\n",
    "cerebro.addanalyzer(bt.analyzers.SharpeRatio, _name='sharpe', timeframe=bt.TimeFrame.Months, compression=1)\n",
    "cerebro.addanalyzer(bt.analyzers.DrawDown, _name='drawdown')\n",
    "\n",
    "\n",
    "data2 = bt.feeds.PandasData(dataname = df['2018-01-02':'2018-07-02']) # this is out of sample\n",
    "\n",
    "\n",
    "# Add the Data Feed to Cerebro\n",
    "cerebro.adddata(data2)\n",
    "\n",
    "# Set our desired cash start\n",
    "cerebro.broker.setcash(100000.0)\n",
    "cerebro.addsizer(bt.sizers.FixedSize, stake=1000)\n",
    "\n",
    "# We're trading futures, so we'll use the \"commissions\" to handle both slippage and commissions\n",
    "slippage_and_comms = FixedSlippageAndCommisionScheme()\n",
    "cerebro.broker.addcommissioninfo(slippage_and_comms)\n",
    "\n",
    "# Print out the starting conditions\n",
    "print('Starting Portfolio Value: %.2f' % cerebro.broker.getvalue())\n",
    "\n",
    "# Run over everything\n",
    "result_out = cerebro.run()\n",
    "\n",
    "cerebro.plot()\n",
    "out_sharpe=result_out[0].analyzers.sharpe.get_analysis()\n",
    "print('Sharpe Ratio:', out_sharpe)\n",
    "\n",
    "# Print out the final result\n",
    "print('Final out sample Portfolio Value: %.2f' % cerebro.broker.getvalue())\n"
   ]
  },
  {
   "cell_type": "code",
   "execution_count": null,
   "metadata": {
    "colab": {
     "base_uri": "https://localhost:8080/",
     "height": 52
    },
    "colab_type": "code",
    "id": "62ZI5LiZnMBY",
    "outputId": "65d670c9-7f33-49c8-8662-dd12613fecc4"
   },
   "outputs": [],
   "source": [
    "print(\"In sample sharpe{}\".format(in_sharpe))\n",
    "print(\"Out of sample sharpe{}\".format(out_sharpe))"
   ]
  }
 ],
 "metadata": {
  "colab": {
   "name": "lvl4 multi param optimization.ipynb",
   "provenance": [],
   "version": "0.3.2"
  },
  "kernelspec": {
   "display_name": "Python 3",
   "language": "python",
   "name": "python3"
  },
  "language_info": {
   "codemirror_mode": {
    "name": "ipython",
    "version": 3
   },
   "file_extension": ".py",
   "mimetype": "text/x-python",
   "name": "python",
   "nbconvert_exporter": "python",
   "pygments_lexer": "ipython3",
   "version": "3.6.8"
  },
  "toc": {
   "base_numbering": 1,
   "nav_menu": {},
   "number_sections": true,
   "sideBar": true,
   "skip_h1_title": false,
   "title_cell": "Table of Contents",
   "title_sidebar": "Contents",
   "toc_cell": false,
   "toc_position": {},
   "toc_section_display": true,
   "toc_window_display": false
  }
 },
 "nbformat": 4,
 "nbformat_minor": 1
}
