{
 "cells": [
  {
   "cell_type": "markdown",
   "metadata": {
    "colab_type": "text",
    "id": "cVNF9m04rsbl"
   },
   "source": [
    "# Imports"
   ]
  },
  {
   "cell_type": "code",
   "execution_count": null,
   "metadata": {
    "colab": {
     "base_uri": "https://localhost:8080/",
     "height": 34
    },
    "colab_type": "code",
    "id": "tEW8Sw60r7X-",
    "outputId": "316643ff-ff1b-49e3-f607-b7bd2190be47"
   },
   "outputs": [],
   "source": [
    "!pip3 install backtrader"
   ]
  },
  {
   "cell_type": "code",
   "execution_count": null,
   "metadata": {
    "colab": {
     "base_uri": "https://localhost:8080/",
     "height": 34
    },
    "colab_type": "code",
    "id": "m5vttyY-sSlg",
    "outputId": "fe0dd7ff-dc87-4cd5-ae38-a783b16a6bba"
   },
   "outputs": [],
   "source": [
    "from google.colab import drive\n",
    "drive.mount('/content/drive')"
   ]
  },
  {
   "cell_type": "code",
   "execution_count": null,
   "metadata": {
    "colab": {
     "base_uri": "https://localhost:8080/",
     "height": 51
    },
    "colab_type": "code",
    "id": "3mQkeqsgrh3B",
    "outputId": "03e51bbb-c008-416d-a37c-d45eabb5847a"
   },
   "outputs": [],
   "source": [
    "%load_ext autoreload\n",
    "%autoreload 2\n",
    "%matplotlib inline\n",
    "\n",
    "import datetime\n",
    "import os.path\n",
    "import backtrader as bt\n",
    "\n",
    "import pandas as pd\n",
    "import numpy as np\n",
    "import math\n",
    "import backtrader.analyzers as btanalyzers"
   ]
  },
  {
   "cell_type": "markdown",
   "metadata": {
    "colab_type": "text",
    "id": "40IhfZ4jruGg"
   },
   "source": [
    "# Strategy"
   ]
  },
  {
   "cell_type": "code",
   "execution_count": null,
   "metadata": {
    "colab": {},
    "colab_type": "code",
    "id": "QlOpu_v6r0sI"
   },
   "outputs": [],
   "source": [
    "# Create a Stratey\n",
    "class TestStrategy(bt.Strategy):\n",
    "    params = (\n",
    "        ('maperiod', 26),\n",
    "        ('printlog', False),\n",
    "    )\n",
    "\n",
    "    def log(self, txt, dt=None, doprint=False):\n",
    "        ''' Logging function fot this strategy'''\n",
    "        if self.params.printlog or doprint:\n",
    "            dt = dt or self.datas[0].datetime.date(0)\n",
    "            print('%s, %s' % (dt.isoformat(), txt))\n",
    "\n",
    "    def __init__(self):\n",
    "        # Keep a reference to the \"close\" line in the data[0] dataseries\n",
    "        self.dataclose = self.datas[0].close\n",
    "\n",
    "        # To keep track of pending orders and buy price/commission\n",
    "        self.order = None\n",
    "        self.buyprice = None\n",
    "        self.buycomm = None\n",
    "\n",
    "        # Add a MovingAverageSimple indicator\n",
    "        self.sma = bt.indicators.SimpleMovingAverage(\n",
    "            self.datas[0], period=self.params.maperiod)\n",
    "\n",
    "    def notify_order(self, order):\n",
    "        if order.status in [order.Submitted, order.Accepted]:\n",
    "            # Buy/Sell order submitted/accepted to/by broker - Nothing to do\n",
    "            return\n",
    "\n",
    "        # Check if an order has been completed\n",
    "        # Attention: broker could reject order if not enough cash\n",
    "        if order.status in [order.Completed]:\n",
    "            if order.isbuy():\n",
    "                self.log(\n",
    "                    'BUY EXECUTED, Price: %.2f, Cost: %.2f, Comm %.2f' %\n",
    "                    (order.executed.price,\n",
    "                     order.executed.value,\n",
    "                     order.executed.comm))\n",
    "\n",
    "                self.buyprice = order.executed.price\n",
    "                self.buycomm = order.executed.comm\n",
    "            else:  # Sell\n",
    "                self.log('SELL EXECUTED, Price: %.2f, Cost: %.2f, Comm %.2f' %\n",
    "                         (order.executed.price,\n",
    "                          order.executed.value,\n",
    "                          order.executed.comm))\n",
    "\n",
    "            self.bar_executed = len(self)\n",
    "\n",
    "        elif order.status in [order.Canceled, order.Margin, order.Rejected]:\n",
    "            self.log('Order Canceled/Margin/Rejected')\n",
    "\n",
    "        # Write down: no pending order\n",
    "        self.order = None\n",
    "\n",
    "    def notify_trade(self, trade):\n",
    "        if not trade.isclosed:\n",
    "            return\n",
    "\n",
    "        self.log('OPERATION PROFIT, GROSS %.2f, NET %.2f' %\n",
    "                 (trade.pnl, trade.pnlcomm))\n",
    "\n",
    "    def next(self):\n",
    "        # Simply log the closing price of the series from the reference\n",
    "        self.log('Close, %.2f' % self.dataclose[0])\n",
    "\n",
    "        # Check if an order is pending ... if yes, we cannot send a 2nd one\n",
    "        if self.order:\n",
    "            return\n",
    "\n",
    "        # Check if we are in the market\n",
    "        if not self.position:\n",
    "\n",
    "            # Not yet ... we MIGHT BUY if ...\n",
    "            if self.dataclose[0] > self.sma[0]:\n",
    "\n",
    "                # BUY, BUY, BUY!!! (with all possible default parameters)\n",
    "                self.log('BUY CREATE, %.2f' % self.dataclose[0])\n",
    "\n",
    "                # Keep track of the created order to avoid a 2nd order\n",
    "                self.order = self.buy()\n",
    "\n",
    "        else:\n",
    "\n",
    "            if self.dataclose[0] < self.sma[0]:\n",
    "                # SELL, SELL, SELL!!! (with all possible default parameters)\n",
    "                self.log('SELL CREATE, %.2f' % self.dataclose[0])\n",
    "\n",
    "                # Keep track of the created order to avoid a 2nd order\n",
    "                self.order = self.sell()\n",
    "\n",
    "    def stop(self):\n",
    "        self.log('(MA Period %2d) Ending Value %.2f' %\n",
    "                 (self.params.maperiod, self.broker.getvalue()), doprint=True)"
   ]
  },
  {
   "cell_type": "markdown",
   "metadata": {
    "colab_type": "text",
    "id": "BQ0PXhd7r32h"
   },
   "source": [
    "# In Sample Plot"
   ]
  },
  {
   "cell_type": "code",
   "execution_count": null,
   "metadata": {
    "colab": {},
    "colab_type": "code",
    "id": "RNPbQnipsHvJ"
   },
   "outputs": [],
   "source": [
    "class FixedSlippageAndCommisionScheme(bt.CommInfoBase):\n",
    "    '''Use this for both slippage and commissions together'''\n",
    "    params = (\n",
    "        ('commission', 12),\n",
    "        ('stocklike', True),\n",
    "        ('commtype', bt.CommInfoBase.COMM_FIXED),\n",
    "        )\n",
    "\n",
    "    def _getcommission(self, size, price, pseudoexec):\n",
    "        return self.p.commission\n"
   ]
  },
  {
   "cell_type": "code",
   "execution_count": null,
   "metadata": {
    "colab": {},
    "colab_type": "code",
    "id": "D9qZYnKJsLPn"
   },
   "outputs": [],
   "source": [
    "# Create a cerebro entity\n",
    "cerebro = bt.Cerebro()\n",
    "\n",
    "# Add a strategy\n",
    "cerebro.addstrategy(TestStrategy)\n",
    "\n",
    "# Load data\n",
    "fname_symbol = 'CL'\n",
    "folder_name = '5min'\n",
    "suffix = '5min_20160103_20190405'\n",
    "\n",
    "# df = pd.read_parquet(\"/content/drive/My Drive/Decisive Workflow/data/CL_5min_20160103_20190405.parquet\")\n",
    "df = pd.read_parquet(os.path.join('../data/processed/{}/'.format(folder_name), '{}_{}.parquet'.format(fname_symbol, suffix)))\n",
    "df = (df.resample('4h', label='left', base=18).agg({'Open': 'first', 'High': 'max', 'Low': 'min', 'Close': 'last', 'Volume': 'sum'}))\n",
    "df.columns = [col_name.lower() for col_name in df.columns]\n",
    "df = df.dropna()\n",
    "\n",
    "data = bt.feeds.PandasData(dataname = df['2016-01-01':'2018-01-01'])\n",
    "\n",
    "# Add the Data Feed to Cerebro\n",
    "cerebro.adddata(data)\n",
    "\n",
    "# Set our desired cash start\n",
    "cerebro.broker.setcash(100000.0)\n",
    "\n",
    "cerebro.addsizer(bt.sizers.FixedSize, stake=1000)\n",
    "\n",
    "# We're trading futures, so we'll use the \"commissions\" to handle both slippage and commissions\n",
    "slippage_and_comms = FixedSlippageAndCommisionScheme()\n",
    "cerebro.broker.addcommissioninfo(slippage_and_comms)\n",
    "\n",
    "# Alternatively, you can use:\n",
    "# cerebro.broker.setcommission(commission=0.0)\n",
    "cerebro.broker.set_slippage_fixed(.01,  slip_open=True, slip_limit=True, slip_match=True, slip_out=True)\n",
    "\n",
    "# Get sharpe ratio\n",
    "cerebro.addanalyzer(btanalyzers.SharpeRatio, _name='mysharpe')\n",
    "cerebro.addanalyzer(btanalyzers.TradeAnalyzer, _name='mytrades')"
   ]
  },
  {
   "cell_type": "code",
   "execution_count": null,
   "metadata": {
    "colab": {
     "base_uri": "https://localhost:8080/",
     "height": 102
    },
    "colab_type": "code",
    "id": "SJ1tx6CfSoNn",
    "outputId": "e598872c-1c0b-46d4-81af-8ad5d91e2b77"
   },
   "outputs": [],
   "source": [
    "# Print out the starting conditions\n",
    "print('Starting Portfolio Value: %.2f' % cerebro.broker.getvalue())\n",
    "\n",
    "# Run over everything\n",
    "thestrats = cerebro.run()\n",
    "thestrat = thestrats[0]\n",
    "\n",
    "# Print Sharpe Ratio\n",
    "print('Sharpe Ratio:', thestrat.analyzers.mysharpe.get_analysis())\n",
    "\n",
    "# Get Trades\n",
    "print('Trades:', thestrat.analyzers.mytrades.get_analysis()['total'])\n",
    "\n",
    "# Print out the final result\n",
    "print('Final Portfolio Value: %.2f' % cerebro.broker.getvalue())"
   ]
  },
  {
   "cell_type": "code",
   "execution_count": null,
   "metadata": {
    "colab": {},
    "colab_type": "code",
    "id": "lFgcuwHcS1Va"
   },
   "outputs": [],
   "source": [
    "cerebro.plot(volume=False, iplot=False)"
   ]
  },
  {
   "cell_type": "markdown",
   "metadata": {
    "colab_type": "text",
    "id": "PNLztYHzkIWJ"
   },
   "source": [
    "# In-sample Optimization"
   ]
  },
  {
   "cell_type": "markdown",
   "metadata": {
    "colab_type": "text",
    "id": "MWhPNp3Sp-x-"
   },
   "source": [
    "# Out-of-Sample"
   ]
  },
  {
   "cell_type": "code",
   "execution_count": null,
   "metadata": {
    "colab": {
     "base_uri": "https://localhost:8080/",
     "height": 85
    },
    "colab_type": "code",
    "id": "q0ol4gV9sMvS",
    "outputId": "e315131a-5a6c-424c-cb2a-d9a59b9f4582"
   },
   "outputs": [],
   "source": [
    "# Create a cerebro entity\n",
    "cerebro = bt.Cerebro()\n",
    "\n",
    "# Add a strategy\n",
    "cerebro.addstrategy(TestStrategy, maperiod=26)\n",
    "\n",
    "\n",
    "data = bt.feeds.PandasData(dataname = df['2018-01-01':'2018-06-01'])\n",
    "\n",
    "\n",
    "# Add the Data Feed to Cerebro\n",
    "cerebro.adddata(data)\n",
    "\n",
    "# Set our desired cash start\n",
    "cerebro.broker.setcash(100000.0)\n",
    "cerebro.addsizer(bt.sizers.FixedSize, stake=1000)\n",
    "\n",
    "# We're trading futures, so we'll use the \"commissions\" to handle both slippage and commissions\n",
    "slippage_and_comms = FixedSlippageAndCommisionScheme()\n",
    "cerebro.broker.addcommissioninfo(slippage_and_comms)\n",
    "\n",
    "# Print out the starting conditions\n",
    "print('Starting Portfolio Value: %.2f' % cerebro.broker.getvalue())\n",
    "# Get sharpe ratio\n",
    "cerebro.addanalyzer(btanalyzers.SharpeRatio, _name='mysharpe')\n",
    "\n",
    "# Run over everything\n",
    "cerebro.run()\n",
    "\n",
    "# Print out the final result\n",
    "print('Final Portfolio Value: %.2f' % cerebro.broker.getvalue())\n",
    "\n",
    "# Print Sharpe Ratio\n",
    "print('Sharpe Ratio:', thestrat.analyzers.mysharpe.get_analysis())\n",
    "cerebro.plot(volume=False, iplot=False)\n"
   ]
  },
  {
   "cell_type": "code",
   "execution_count": null,
   "metadata": {
    "colab": {},
    "colab_type": "code",
    "id": "KUSWqyZKsOqT"
   },
   "outputs": [],
   "source": []
  }
 ],
 "metadata": {
  "colab": {
   "collapsed_sections": [],
   "name": "201907-DA-WORKFLOW-03.01-optimization.ipynb",
   "provenance": []
  },
  "kernelspec": {
   "display_name": "Python 3",
   "language": "python",
   "name": "python3"
  },
  "language_info": {
   "codemirror_mode": {
    "name": "ipython",
    "version": 3
   },
   "file_extension": ".py",
   "mimetype": "text/x-python",
   "name": "python",
   "nbconvert_exporter": "python",
   "pygments_lexer": "ipython3",
   "version": "3.7.5"
  }
 },
 "nbformat": 4,
 "nbformat_minor": 4
}
