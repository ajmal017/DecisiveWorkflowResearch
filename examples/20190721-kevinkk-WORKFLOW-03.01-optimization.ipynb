{
 "cells": [
  {
   "cell_type": "code",
   "execution_count": null,
   "metadata": {
    "colab": {
     "base_uri": "https://localhost:8080/",
     "height": 203
    },
    "colab_type": "code",
    "id": "5nEGhAQoT-tE",
    "outputId": "f8b9983c-462c-4655-dd72-843dadb90226"
   },
   "outputs": [],
   "source": [
    "%matplotlib inline\n",
    "%load_ext autoreload\n",
    "%autoreload 2\n",
    "\n",
    "!pip install backtrader\n",
    "import datetime\n",
    "import os.path\n",
    "import backtrader as bt\n",
    "import pandas as pd\n",
    "from google.colab import drive\n",
    "drive.mount('/content/gdrive')"
   ]
  },
  {
   "cell_type": "markdown",
   "metadata": {
    "colab_type": "text",
    "id": "WwsNBrDrU0Kg"
   },
   "source": [
    "1. Select an instrument (CL, ES, or GC) and a timeframe, (i.e. 2016-2018).  \n",
    "2. Determine 20% of the timeframe as your Out-of-sample. \n",
    "2. (a) [OPTIONAL] Create an improvement to the existing strategy.  You will skip level04 and go to level05 if you choose this, mention this in the #promotion channel if you did this\n",
    "3. Apply one tick of slippage per contract per trade, i.e. $10 for CL and $20 roundtrip\n",
    "4. Target ~50 trades per parameter.  i.e. if you have two indicators and two parameters per indicator, you’d want about 200 trades in your in sample.  If you did not reach that number, extend your timeframe period\n",
    "5. Optimize the variables for your selected timeframe for Net Profit\n",
    "6. Apply your best performing parameters for your out-of-sample period\n",
    "\n"
   ]
  },
  {
   "cell_type": "markdown",
   "metadata": {
    "colab_type": "text",
    "id": "Ig7jwRQGT-tT"
   },
   "source": [
    "## Strategy"
   ]
  },
  {
   "cell_type": "code",
   "execution_count": null,
   "metadata": {
    "colab": {},
    "colab_type": "code",
    "id": "JP7v6wKQT-tW"
   },
   "outputs": [],
   "source": [
    "# Create a Stratey\n",
    "class TestStrategy(bt.Strategy):\n",
    "    params = (\n",
    "        ('maperiod', 30),\n",
    "        ('printlog', False),\n",
    "        ('mafast',2),\n",
    "        ('maslow',30),\n",
    "    )\n",
    "\n",
    "    def log(self, txt, dt=None, doprint=False):\n",
    "        ''' Logging function for this strategy'''\n",
    "        if self.params.printlog or doprint:\n",
    "            dt = dt or self.datas[0].datetime.date(0)\n",
    "            print('%s, %s' % (dt.isoformat(), txt))\n",
    "\n",
    "    def __init__(self):\n",
    "        # Keep a reference to the \"close\" line in the data[0] dataseries\n",
    "        self.dataclose = self.datas[0].close\n",
    "\n",
    "        # To keep track of pending orders and buy price/commission\n",
    "        self.order = None\n",
    "        self.buyprice = None\n",
    "        self.buycomm = None\n",
    "\n",
    "        # Add a MovingAverageSimple indicator\n",
    "#        self.sma = bt.indicators.SimpleMovingAverage(\n",
    "#            self.datas[0], period=self.params.maperiod)\n",
    "        self.sma = bt.indicators.AdaptiveMovingAverage( #kevin technical indicator chosen \n",
    "            self.datas[0], period=self.params.maperiod, fast=self.params.mafast, slow = self.params.mafast)        \n",
    "        \n",
    "\n",
    "    def notify_order(self, order):\n",
    "        if order.status in [order.Submitted, order.Accepted]:\n",
    "            # Buy/Sell order submitted/accepted to/by broker - Nothing to do\n",
    "            return\n",
    "\n",
    "        # Check if an order has been completed\n",
    "        # Attention: broker could reject order if not enough cash\n",
    "        if order.status in [order.Completed]:\n",
    "            if order.isbuy():\n",
    "                self.log(\n",
    "                    'BUY EXECUTED, Price: %.2f, Cost: %.2f, Comm %.2f' %\n",
    "                    (order.executed.price,\n",
    "                     order.executed.value,\n",
    "                     order.executed.comm))\n",
    "\n",
    "                self.buyprice = order.executed.price\n",
    "                self.buycomm = order.executed.comm\n",
    "            else:  # Sell\n",
    "                self.log('SELL EXECUTED, Price: %.2f, Cost: %.2f, Comm %.2f' %\n",
    "                         (order.executed.price,\n",
    "                          order.executed.value,\n",
    "                          order.executed.comm))\n",
    "\n",
    "            self.bar_executed = len(self)\n",
    "\n",
    "        elif order.status in [order.Canceled, order.Margin, order.Rejected]:\n",
    "            self.log('Order Canceled/Margin/Rejected')\n",
    "\n",
    "        # Write down: no pending order\n",
    "        self.order = None\n",
    "\n",
    "    def notify_trade(self, trade):\n",
    "        if not trade.isclosed:\n",
    "            return\n",
    "\n",
    "        self.log('OPERATION PROFIT, GROSS %.2f, NET %.2f' %\n",
    "                 (trade.pnl, trade.pnlcomm))\n",
    "\n",
    "    def next(self):\n",
    "        # Simply log the closing price of the series from the reference\n",
    "        self.log('Close, %.2f' % self.dataclose[0])\n",
    "\n",
    "        # Check if an order is pending ... if yes, we cannot send a 2nd one\n",
    "        if self.order:\n",
    "            return\n",
    "\n",
    "        # Check if we are in the market\n",
    "        if not self.position:\n",
    "\n",
    "            # Not yet ... we MIGHT BUY if ...\n",
    "            if self.dataclose[0] > self.sma[0]:\n",
    "\n",
    "                # BUY, BUY, BUY!!! (with all possible default parameters)\n",
    "                self.log('BUY CREATE, %.2f' % self.dataclose[0])\n",
    "\n",
    "                # Keep track of the created order to avoid a 2nd order\n",
    "                self.order = self.buy()\n",
    "\n",
    "        else:\n",
    "\n",
    "            if self.dataclose[0] < self.sma[0]:\n",
    "                # SELL, SELL, SELL!!! (with all possible default parameters)\n",
    "                self.log('SELL CREATE, %.2f' % self.dataclose[0])\n",
    "\n",
    "                # Keep track of the created order to avoid a 2nd order\n",
    "                self.order = self.sell()\n",
    "\n",
    "    def stop(self):\n",
    "        self.log('(MA Period %2d) Ending Value %.2f' %\n",
    "                 (self.params.maperiod, self.broker.getvalue()), doprint=True)"
   ]
  },
  {
   "cell_type": "markdown",
   "metadata": {
    "colab_type": "text",
    "id": "KYeb_tP0T-tg"
   },
   "source": [
    "## Strategy Plot"
   ]
  },
  {
   "cell_type": "code",
   "execution_count": null,
   "metadata": {
    "colab": {},
    "colab_type": "code",
    "id": "I1TlCxdkT-ti"
   },
   "outputs": [],
   "source": [
    "class FixedSlippageAndCommisionScheme(bt.CommInfoBase):\n",
    "    '''Use this for both slippage and commissions together'''\n",
    "    params = (\n",
    "        ('commission', 10), #kevin modified for ES per contract one tick is 0.25 or $12.5 \n",
    "        ('stocklike', True),\n",
    "        ('commtype', bt.CommInfoBase.COMM_FIXED),\n",
    "        )\n",
    "\n",
    "    def _getcommission(self, size, price, pseudoexec):\n",
    "        return self.p.commission"
   ]
  },
  {
   "cell_type": "code",
   "execution_count": null,
   "metadata": {
    "colab": {
     "base_uri": "https://localhost:8080/",
     "height": 797
    },
    "colab_type": "code",
    "id": "_GUHX6b4T-ts",
    "outputId": "370d7384-8d3d-4f61-ff82-b39ddd3446fc"
   },
   "outputs": [],
   "source": [
    "# Create a cerebro entity\n",
    "cerebro = bt.Cerebro()\n",
    "\n",
    "# Add a strategy\n",
    "cerebro.addstrategy(TestStrategy)\n",
    "\n",
    "# Load data\n",
    "fname_symbol = 'CL' #kevin use crude oil (CL)\n",
    "folder_name = '5min'\n",
    "suffix = '5min_20160103_20190405'\n",
    "\n",
    "df = pd.read_parquet(os.path.join(r'/content/gdrive/My Drive/DecisiveWorkflowResearch/data/processed/{}/'.format(folder_name), '{}_{}.parquet'.format(fname_symbol, suffix)))\n",
    "df = (df.resample('4h', label='left', base=18).agg({'Open': 'first', 'High': 'max', 'Low': 'min', 'Close': 'last', 'Volume': 'sum'}))\n",
    "df.columns = [col_name.lower() for col_name in df.columns]\n",
    "df = df.dropna()\n",
    "\n",
    "data = bt.feeds.PandasData(dataname = df['2016-01-01':'2018-01-01']) #kevin in sample data, 2 years\n",
    "\n",
    "# Add the Data Feed to Cerebro\n",
    "cerebro.adddata(data)\n",
    "\n",
    "# Set our desired cash start\n",
    "cerebro.broker.setcash(100000.0)\n",
    "\n",
    "cerebro.addsizer(bt.sizers.FixedSize, stake=1000)\n",
    "\n",
    "# We're trading futures, so we'll use the \"commissions\" to handle both slippage and commissions\n",
    "slippage_and_comms = FixedSlippageAndCommisionScheme()\n",
    "cerebro.broker.addcommissioninfo(slippage_and_comms)\n",
    "\n",
    "# Alternatively, you can use:\n",
    "# cerebro.broker.setcommission(commission=0.0)\n",
    "# cerebro.broker.set_slippage_fixed(.00,  slip_open=True, slip_limit=True, slip_match=True, slip_out=True)\n",
    "\n",
    "\n",
    "# Print out the starting conditions\n",
    "print('Starting Portfolio Value: %.2f' % cerebro.broker.getvalue())\n",
    "\n",
    "# Run over everything\n",
    "cerebro.run()\n",
    "\n",
    "# Print out the final result\n",
    "print('Final Portfolio Value: %.2f' % cerebro.broker.getvalue())\n",
    "try:\n",
    "  %matplotlib\n",
    "except Exception:\n",
    "  pass\n",
    "import matplotlib.pyplot as plt\n",
    "plt.rcParams['figure.figsize'] = [19, 10]\n",
    "#cerebro.plot(iplot=False)\n",
    "cerebro.plot(volume=False, iplot=False)"
   ]
  },
  {
   "cell_type": "code",
   "execution_count": null,
   "metadata": {
    "colab": {
     "base_uri": "https://localhost:8080/",
     "height": 67
    },
    "colab_type": "code",
    "id": "qudr00bVc2-c",
    "outputId": "16d40e2f-3581-440c-e859-82ca39b1c0fb"
   },
   "outputs": [],
   "source": [
    "print(len(data))\n",
    "print(len(data)/4)\n",
    "print(round(len(data)/4))"
   ]
  },
  {
   "cell_type": "code",
   "execution_count": null,
   "metadata": {
    "colab": {
     "base_uri": "https://localhost:8080/",
     "height": 107
    },
    "colab_type": "code",
    "id": "9sWDooeCeMyq",
    "outputId": "85591615-996f-4ca6-f000-85f983efcdbe"
   },
   "outputs": [],
   "source": [
    "df['2016-01-01':'2018-01-01'].tail(2)"
   ]
  },
  {
   "cell_type": "code",
   "execution_count": null,
   "metadata": {
    "colab": {
     "base_uri": "https://localhost:8080/",
     "height": 107
    },
    "colab_type": "code",
    "id": "H5UkRT8-e0qN",
    "outputId": "34194c0a-3d6e-435a-ba94-e011c7907476"
   },
   "outputs": [],
   "source": [
    "df['2016-01-01':'2018-01-01'].head(2)"
   ]
  },
  {
   "cell_type": "code",
   "execution_count": null,
   "metadata": {
    "colab": {
     "base_uri": "https://localhost:8080/",
     "height": 133
    },
    "colab_type": "code",
    "id": "2Dmbh3ymc699",
    "outputId": "9be077fc-c8e8-4a4e-d6c8-0120e1df2c9a"
   },
   "outputs": [],
   "source": [
    "#check correct range to use for 20% outof sample data\n",
    "data2 = df.iloc[(len(data)+1):(len(data)+(round(len(data)/4))+1)]\n",
    "print(len(data2))\n",
    "print(data2.head(2))\n",
    "print(data2.tail(2))                               "
   ]
  },
  {
   "cell_type": "markdown",
   "metadata": {
    "colab_type": "text",
    "id": "pwQ9pej7T-t3"
   },
   "source": [
    "## In-sample Optimization"
   ]
  },
  {
   "cell_type": "code",
   "execution_count": null,
   "metadata": {
    "colab": {
     "base_uri": "https://localhost:8080/",
     "height": 350
    },
    "colab_type": "code",
    "id": "AyqypspdT-t5",
    "outputId": "024b21f9-1fd5-4578-c97f-a80b4c6445bf"
   },
   "outputs": [],
   "source": [
    "# Create a cerebro entity\n",
    "cerebro = bt.Cerebro()\n",
    "\n",
    "# Add a strategy\n",
    "strats = cerebro.optstrategy(\n",
    "    TestStrategy,\n",
    "    maperiod=range(10, 30),\n",
    "    mafast=2,\n",
    "    maslow=30)   #kevin range of values to let model optimized\n",
    "\n",
    "# Add the Data Feed to Cerebro\n",
    "cerebro.adddata(data)\n",
    "\n",
    "# Set our desired cash start\n",
    "cerebro.broker.setcash(100000.0)\n",
    "\n",
    "# Add a FixedSize sizer according to the stake\n",
    "cerebro.addsizer(bt.sizers.FixedSize, stake=1000)\n",
    "\n",
    "# We're trading futures, so we'll use the \"commissions\" to handle both slippage and commissions\n",
    "slippage_and_comms = FixedSlippageAndCommisionScheme()\n",
    "cerebro.broker.addcommissioninfo(slippage_and_comms)\n",
    "\n",
    "# Run over everything\n",
    "results = cerebro.run(maxcpus=1)"
   ]
  },
  {
   "cell_type": "code",
   "execution_count": null,
   "metadata": {
    "colab": {
     "base_uri": "https://localhost:8080/",
     "height": 814
    },
    "colab_type": "code",
    "id": "-cX0swo6oAUU",
    "outputId": "4980ac6b-6d14-41e3-db15-e58b345906c9"
   },
   "outputs": [],
   "source": [
    "# Create a cerebro entity\n",
    "cerebro = bt.Cerebro()\n",
    "\n",
    "# Add a strategy\n",
    "cerebro.addstrategy(TestStrategy, maperiod=26, mafast=2, maslow=30)\n",
    "cerebro.addanalyzer(bt.analyzers.SharpeRatio, _name='sharpe')\n",
    "cerebro.addanalyzer(bt.analyzers.DrawDown, _name='drawdown')\n",
    "\n",
    "\n",
    "data = bt.feeds.PandasData(dataname = df['2016-01-01':'2018-01-01']) #kevin this is out of sample, 799 rows\n",
    "\n",
    "\n",
    "# Add the Data Feed to Cerebro\n",
    "cerebro.adddata(data)\n",
    "\n",
    "# Set our desired cash start\n",
    "cerebro.broker.setcash(100000.0)\n",
    "cerebro.addsizer(bt.sizers.FixedSize, stake=1000)\n",
    "\n",
    "# We're trading futures, so we'll use the \"commissions\" to handle both slippage and commissions\n",
    "slippage_and_comms = FixedSlippageAndCommisionScheme()\n",
    "cerebro.broker.addcommissioninfo(slippage_and_comms)\n",
    "\n",
    "# Print out the starting conditions\n",
    "print('Starting Portfolio Value: %.2f' % cerebro.broker.getvalue())\n",
    "\n",
    "# Run over everything\n",
    "result_in = cerebro.run()\n",
    "\n",
    "in_sharpe=result_in[0].analyzers.sharpe.get_analysis()\n",
    "print('Sharpe Ratio:', in_sharpe)\n",
    "\n",
    "# Print out the final result\n",
    "print('Final Portfolio Value: %.2f' % cerebro.broker.getvalue())\n",
    "cerebro.plot(volume=False, iplot=False)"
   ]
  },
  {
   "cell_type": "markdown",
   "metadata": {
    "colab_type": "text",
    "id": "L7_ADeMkT-uD"
   },
   "source": [
    "## Out-of-Sample"
   ]
  },
  {
   "cell_type": "code",
   "execution_count": null,
   "metadata": {
    "colab": {
     "base_uri": "https://localhost:8080/",
     "height": 814
    },
    "colab_type": "code",
    "id": "CSRbeaK2T-uF",
    "outputId": "e8fa19b5-0043-4b54-d450-c8ff7aaa389c"
   },
   "outputs": [],
   "source": [
    "# Create a cerebro entity\n",
    "cerebro = bt.Cerebro()\n",
    "\n",
    "# Add a strategy\n",
    "cerebro.addstrategy(TestStrategy, maperiod=29, mafast=2, maslow=30)\n",
    "cerebro.addanalyzer(bt.analyzers.SharpeRatio, _name='sharpe', timeframe=bt.TimeFrame.Months, compression=1)\n",
    "cerebro.addanalyzer(bt.analyzers.DrawDown, _name='drawdown')\n",
    "\n",
    "\n",
    "data2 = bt.feeds.PandasData(dataname = df['2018-01-02':'2018-07-02']) #kevin this is out of sample, 799 rows\n",
    "\n",
    "\n",
    "# Add the Data Feed to Cerebro\n",
    "cerebro.adddata(data2)\n",
    "\n",
    "# Set our desired cash start\n",
    "cerebro.broker.setcash(100000.0)\n",
    "cerebro.addsizer(bt.sizers.FixedSize, stake=1000)\n",
    "\n",
    "# We're trading futures, so we'll use the \"commissions\" to handle both slippage and commissions\n",
    "slippage_and_comms = FixedSlippageAndCommisionScheme()\n",
    "cerebro.broker.addcommissioninfo(slippage_and_comms)\n",
    "\n",
    "# Print out the starting conditions\n",
    "print('Starting Portfolio Value: %.2f' % cerebro.broker.getvalue())\n",
    "\n",
    "# Run over everything\n",
    "result_out = cerebro.run()\n",
    "\n",
    "out_sharpe=result_out[0].analyzers.sharpe.get_analysis()\n",
    "print('Sharpe Ratio:', out_sharpe)\n",
    "\n",
    "# Print out the final result\n",
    "print('Final Portfolio Value: %.2f' % cerebro.broker.getvalue())\n",
    "cerebro.plot(volume=False, iplot=False)"
   ]
  },
  {
   "cell_type": "code",
   "execution_count": null,
   "metadata": {
    "colab": {
     "base_uri": "https://localhost:8080/",
     "height": 50
    },
    "colab_type": "code",
    "id": "62ZI5LiZnMBY",
    "outputId": "e52d5049-2ebc-467b-bc98-1be3a2e88c2e"
   },
   "outputs": [],
   "source": [
    "print(\"In sample sharpe{}\".format(in_sharpe))\n",
    "print(\"Out of sample sharpe{}\".format(out_sharpe))"
   ]
  },
  {
   "cell_type": "code",
   "execution_count": null,
   "metadata": {
    "colab": {},
    "colab_type": "code",
    "id": "tO5rur-vrDKv"
   },
   "outputs": [],
   "source": []
  }
 ],
 "metadata": {
  "colab": {
   "name": "lvl3 optimization.ipynb",
   "provenance": [],
   "version": "0.3.2"
  },
  "kernelspec": {
   "display_name": "Python 3",
   "language": "python",
   "name": "python3"
  },
  "language_info": {
   "codemirror_mode": {
    "name": "ipython",
    "version": 3
   },
   "file_extension": ".py",
   "mimetype": "text/x-python",
   "name": "python",
   "nbconvert_exporter": "python",
   "pygments_lexer": "ipython3",
   "version": "3.6.8"
  },
  "toc": {
   "base_numbering": 1,
   "nav_menu": {},
   "number_sections": true,
   "sideBar": true,
   "skip_h1_title": false,
   "title_cell": "Table of Contents",
   "title_sidebar": "Contents",
   "toc_cell": false,
   "toc_position": {},
   "toc_section_display": true,
   "toc_window_display": false
  }
 },
 "nbformat": 4,
 "nbformat_minor": 0
}
