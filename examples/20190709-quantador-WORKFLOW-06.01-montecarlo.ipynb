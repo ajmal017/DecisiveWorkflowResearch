{
 "cells": [
  {
   "cell_type": "code",
   "execution_count": null,
   "metadata": {},
   "outputs": [],
   "source": [
    "%matplotlib inline\n",
    "%load_ext autoreload\n",
    "%autoreload 2\n",
    "\n",
    "import pandas as pd\n",
    "import seaborn as sns\n",
    "import numpy as np\n",
    "import matplotlib.pyplot as plt\n",
    "import datetime\n",
    "import sys\n",
    "import random\n",
    "\n",
    "sys.path.append('..')\n",
    "from decisivealpha.montecarlo import MonteCarlo"
   ]
  },
  {
   "cell_type": "code",
   "execution_count": null,
   "metadata": {},
   "outputs": [],
   "source": [
    "equity_wf = pd.read_pickle(\"20190709-quantador-WORKFLOW-06.01-montecarlo.pkl\")\n",
    "equity_wf.plot()"
   ]
  },
  {
   "cell_type": "code",
   "execution_count": null,
   "metadata": {},
   "outputs": [],
   "source": [
    "# Assume CL futures margin\n",
    "margin = 5000\n",
    "\n",
    "start_date = equity_wf.index[0]\n",
    "end_date = equity_wf.index[-1]"
   ]
  },
  {
   "cell_type": "code",
   "execution_count": null,
   "metadata": {},
   "outputs": [],
   "source": [
    "# We're going to generate a random list of trades,\n",
    "# and you should replace this with your walkforward list of trades\n",
    "\n",
    "#trades_list = random.sample(range(-2000, 2300), 100)\n",
    "trades_list = equity_wf.dropna()\n",
    "cumsum = np.asarray(trades_list).cumsum()\n",
    "plt.plot(cumsum)"
   ]
  },
  {
   "cell_type": "code",
   "execution_count": null,
   "metadata": {},
   "outputs": [],
   "source": [
    "# Initialize\n",
    "mc = MonteCarlo(trades_list)\n",
    "\n",
    "# We will sample with replacement the number of trades per year\n",
    "# so we need the start and end date to determine how many trades at in a year on average\n",
    "mc.settings(margin, start_date, end_date)\n",
    "\n",
    "# Test different levels of equity starting at this value\n",
    "trial_starting_equity = int(margin * 1.5)\n",
    "\n",
    "# Run the Monte Carlo\n",
    "results = mc.run(trial_starting_equity)"
   ]
  },
  {
   "cell_type": "code",
   "execution_count": null,
   "metadata": {},
   "outputs": [],
   "source": [
    "# Put the results in a dataframe so it's nicer to look at in notebook\n",
    "# Our goal is to get the highest equity below 10% Risk of Ruin\n",
    "df = pd.DataFrame(index=range(1,len(results)))\n",
    "count = 1\n",
    "for result in results:\n",
    "    df.loc[count, 'equity'] = result['equity']\n",
    "    df.loc[count, 'is_ruined'] = result['is_ruined']\n",
    "    df.loc[count, 'is_profitable'] = result['is_profitable']\n",
    "    df.loc[count, 'returns_pct'] = result['returns_pct']\n",
    "    df.loc[count, 'drawdown_pct'] = result['drawdown_pct']\n",
    "    df.loc[count, 'returns_per_drawdown'] = result['returns_per_drawdown']\n",
    "    count += 1\n",
    "\n",
    "# Get the recommended values\n",
    "recommended = df[df['is_ruined'] <= 10].iloc[0]\n",
    "print('Recommend a starting equity of {}, which has {:0.2}% Risk-of-Ruin, \\n\\t{:0.0f}% Probability-of-Profit and a {:0.2f} Returns/Drawdown Ratio'.format(\n",
    "                recommended['equity'], recommended['is_ruined'], \n",
    "                recommended['is_profitable'], recommended['returns_per_drawdown']))\n",
    "\n",
    "if recommended['is_ruined'] > 10 or recommended['returns_per_drawdown'] < 2.0:\n",
    "    print(\"Risk Assessment: FAILED\")\n",
    "else:\n",
    "    print(\"Risk Assessment: PASSED\")\n",
    "\n",
    "mc_1p5x = recommended['drawdown_pct'] * 1.5\n",
    "print(\"MC-Drawdown: {:0.1f}% MC-1.5x-DD: {:0.1f}%\".format(recommended['drawdown_pct'], mc_1p5x))\n",
    "\n",
    "profit = recommended['equity'] * recommended['returns_pct'] / 100\n",
    "months = (equity_wf.index[-1] - equity_wf.index[0]) / np.timedelta64(1, 'M')\n",
    "average_monthly_net_profit = profit / months\n",
    "print(\"Average monthly net profit: {:0.1f}\".format(average_monthly_net_profit))\n",
    "\n",
    "df"
   ]
  },
  {
   "cell_type": "code",
   "execution_count": null,
   "metadata": {},
   "outputs": [],
   "source": [
    "plt.plot(cumsum + recommended['equity'])"
   ]
  }
 ],
 "metadata": {
  "kernelspec": {
   "display_name": "Python 3",
   "language": "python",
   "name": "python3"
  },
  "language_info": {
   "codemirror_mode": {
    "name": "ipython",
    "version": 3
   },
   "file_extension": ".py",
   "mimetype": "text/x-python",
   "name": "python",
   "nbconvert_exporter": "python",
   "pygments_lexer": "ipython3",
   "version": "3.6.8"
  },
  "toc": {
   "base_numbering": 1,
   "nav_menu": {},
   "number_sections": true,
   "sideBar": true,
   "skip_h1_title": false,
   "title_cell": "Table of Contents",
   "title_sidebar": "Contents",
   "toc_cell": false,
   "toc_position": {},
   "toc_section_display": true,
   "toc_window_display": false
  }
 },
 "nbformat": 4,
 "nbformat_minor": 2
}
