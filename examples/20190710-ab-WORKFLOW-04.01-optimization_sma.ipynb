{
 "cells": [
  {
   "cell_type": "code",
   "execution_count": null,
   "metadata": {
    "pycharm": {
     "is_executing": false,
     "name": "#%%\n"
    }
   },
   "outputs": [],
   "source": [
    "%matplotlib inline\n",
    "%load_ext autoreload\n",
    "%autoreload 2\n",
    "\n",
    "import datetime\n",
    "import os.path\n",
    "import backtrader as bt\n",
    "import backtrader.indicators as btind\n",
    "import pandas as pd\n",
    "from pandas import Series, DataFrame\n",
    "import math\n",
    "import random\n"
   ]
  },
  {
   "cell_type": "markdown",
   "metadata": {},
   "source": [
    "## Strategy"
   ]
  },
  {
   "cell_type": "code",
   "execution_count": null,
   "metadata": {
    "pycharm": {
     "is_executing": false,
     "name": "#%%\n"
    }
   },
   "outputs": [],
   "source": [
    "# Create a Stratey\n",
    "class TestStrategy(bt.Strategy):\n",
    "    params = (\n",
    "        ('maperiod', 15),\n",
    "        ('printlog', False),\n",
    "    )\n",
    "\n",
    "    def log(self, txt, dt=None, doprint=False):\n",
    "        \"\"\" Logging function fot this strategy\"\"\"\n",
    "        if self.params.printlog or doprint:\n",
    "            dt = dt or self.datas[0].datetime.date(0)\n",
    "            print('%s, %s' % (dt.isoformat(), txt))\n",
    "\n",
    "    def __init__(self):\n",
    "        # Keep a reference to the \"close\" line in the data[0] dataseries\n",
    "        self.dataclose = self.datas[0].close\n",
    "\n",
    "        # To keep track of pending orders and buy price/commission\n",
    "        self.order = None\n",
    "        self.buyprice = None\n",
    "        self.buycomm = None\n",
    "        self.bar_executed = 0\n",
    "\n",
    "        # Add a MovingAverageSimple indicator\n",
    "        self.sma = bt.indicators.SimpleMovingAverage(self.datas[0], period=self.params.maperiod)\n",
    "\n",
    "    def notify_order(self, order):\n",
    "        if order.status in [order.Submitted, order.Accepted]:\n",
    "            # Buy/Sell order submitted/accepted to/by broker - Nothing to do\n",
    "            return\n",
    "\n",
    "        # Check if an order has been completed\n",
    "        # Attention: broker could reject order if not enough cash\n",
    "        if order.status in [order.Completed]:\n",
    "            if order.isbuy():\n",
    "                self.log(\n",
    "                    'BUY EXECUTED, Price: %.2f, Cost: %.2f, Comm %.2f' %\n",
    "                    (order.executed.price, order.executed.value,order.executed.comm)\n",
    "                )\n",
    "\n",
    "                self.buyprice = order.executed.price\n",
    "                self.buycomm = order.executed.comm\n",
    "            \n",
    "            else:  # Sell\n",
    "                self.log(\n",
    "                    'SELL EXECUTED, Price: %.2f, Cost: %.2f, Comm %.2f' %\n",
    "                    (order.executed.price, order.executed.value, order.executed.comm)\n",
    "                 )\n",
    "\n",
    "            self.bar_executed = len(self)\n",
    "\n",
    "        elif order.status in [order.Canceled, order.Margin, order.Rejected]:\n",
    "            self.log('Order Canceled/Margin/Rejected')\n",
    "\n",
    "        # Write down: no pending order\n",
    "        self.order = None\n",
    "\n",
    "    def notify_trade(self, trade):\n",
    "        if not trade.isclosed:\n",
    "            return\n",
    "\n",
    "        self.log('OPERATION PROFIT, GROSS %.2f, NET %.2f' % (trade.pnl, trade.pnlcomm))\n",
    "\n",
    "    def next(self):\n",
    "        # Simply log the closing price of the series from the reference\n",
    "        self.log('Close, %.2f' % self.dataclose[0])\n",
    "\n",
    "        # Check if an order is pending ... if yes, we cannot send a 2nd one\n",
    "        if self.order:\n",
    "            return\n",
    "\n",
    "        # Check if we are in the market\n",
    "        if not self.position:\n",
    "\n",
    "            # Not yet ... we MIGHT BUY if ...\n",
    "            if self.dataclose[0] > self.sma[0]:\n",
    "\n",
    "                # BUY, BUY, BUY!!! (with all possible default parameters)\n",
    "                self.log('BUY CREATE, %.2f' % self.dataclose[0])\n",
    "\n",
    "                # Keep track of the created order to avoid a 2nd order\n",
    "                self.order = self.buy()\n",
    "\n",
    "        else:\n",
    "\n",
    "            if self.dataclose[0] < self.sma[0]:\n",
    "                # SELL, SELL, SELL!!! (with all possible default parameters)\n",
    "                self.log('SELL CREATE, %.2f' % self.dataclose[0])\n",
    "\n",
    "                # Keep track of the created order to avoid a 2nd order\n",
    "                self.order = self.sell()\n",
    "\n",
    "    def stop(self):\n",
    "        self.log('(MA Period %2d) Ending Value %.2f' % (self.params.maperiod, self.broker.getvalue()), doprint=True)\n",
    "        "
   ]
  },
  {
   "cell_type": "markdown",
   "metadata": {},
   "source": [
    "# Simple Moving Average Strategy\n",
    "A simple moving average crossover strategy; crossing of a fast and slow moving average generates buy/sell signals"
   ]
  },
  {
   "cell_type": "code",
   "execution_count": null,
   "metadata": {
    "pycharm": {
     "is_executing": false,
     "name": "#%%\n"
    }
   },
   "outputs": [],
   "source": [
    "class SMAC(bt.Strategy):    \n",
    "    params = {\n",
    "        \"fast\": 20, \n",
    "        \"slow\": 50,                  \n",
    "        \"optim\": False, \n",
    "        \"optim_fs\": (20, 50)\n",
    "    }\n",
    " \n",
    "    def __init__(self):\n",
    "        \"\"\"Initialize the strategy\"\"\"\n",
    "        self.fastma = dict()\n",
    "        self.slowma = dict()\n",
    "        self.regime = dict()\n",
    " \n",
    "        if self.params.optim:   \n",
    "            self.params.fast, self.params.slow = self.params.optim_fs\n",
    " \n",
    "        if self.params.fast > self.params.slow:\n",
    "            raise ValueError(\n",
    "                \"A SMAC strategy cannot have the fast moving average's window be \" + \\\n",
    "                 \"greater than the slow moving average window.\")\n",
    " \n",
    "        for d in self.getdatanames():\n",
    "            self.fastma[d] = bt.indicators.SimpleMovingAverage(\n",
    "                self.getdatabyname(d), period=self.params.fast, plotname=\"FastMA: \" + d\n",
    "            )\n",
    "            self.slowma[d] = bt.indicators.SimpleMovingAverage(\n",
    "                self.getdatabyname(d), period=self.params.slow, plotname=\"SlowMA: \" + d\n",
    "            )\n",
    "            self.regime[d] = self.fastma[d] - self.slowma[d]  \n",
    "            \n",
    "    def notify_trade(self, trade):\n",
    "        if not trade.isclosed:\n",
    "            return\n",
    "        \n",
    " \n",
    "    def next(self):\n",
    "        \"\"\"Define what will be done in a single step, including creating and closing trades\"\"\"\n",
    "        for d in self.getdatanames():\n",
    "            pos = self.getpositionbyname(d).size or 0\n",
    "            if pos == 0:\n",
    "                if self.regime[d][0] > 0 >= self.regime[d][-1]:    # Buy signal\n",
    "                    self.buy(data=self.getdatabyname(d))\n",
    "            else:    # We have an open position\n",
    "                if self.regime[d][0] <= 0 < self.regime[d][-1]:    # Sell signal\n",
    "                    self.sell(data=self.getdatabyname(d))"
   ]
  },
  {
   "cell_type": "markdown",
   "metadata": {},
   "source": [
    "# Analyzer\n",
    "A simple analyzer for account "
   ]
  },
  {
   "cell_type": "code",
   "execution_count": null,
   "metadata": {
    "pycharm": {
     "name": "#%%\n"
    }
   },
   "outputs": [],
   "source": [
    "class AcctStats(bt.Analyzer): \n",
    "    def __init__(self):\n",
    "        self.start_val = self.strategy.broker.get_value()\n",
    "        self.end_val = 0\n",
    "\n",
    "    \n",
    "    def start(self):\n",
    "        self.ntrade = 0        \n",
    "        \n",
    "    def notify_trade(self, trade):\n",
    "        self.ntrade += 1\n",
    " \n",
    "    def stop(self):\n",
    "        self.end_val = self.strategy.broker.get_value()\n",
    " \n",
    "    def get_analysis(self):\n",
    "        return {\n",
    "            \"start\": self.start_val, \n",
    "            \"end\": self.end_val,\n",
    "            \"growth\": self.end_val - self.start_val, \n",
    "            \"return\": self.end_val / self.start_val,\n",
    "            \"trades\": self.ntrade\n",
    "        }"
   ]
  },
  {
   "cell_type": "markdown",
   "metadata": {},
   "source": [
    "# Test Strategy Test (In Sample)\n",
    "Testing the original strategy with in-sample data to create a baseline."
   ]
  },
  {
   "cell_type": "code",
   "execution_count": null,
   "metadata": {
    "pycharm": {
     "is_executing": false,
     "name": "#%%\n"
    }
   },
   "outputs": [],
   "source": [
    "# Initialization & strategy\n",
    "cerebro = bt.Cerebro()\n",
    "cerebro.addstrategy(TestStrategy)\n",
    "\n",
    "# Symbol\n",
    "fname_symbol = 'CL'\n",
    "folder_name = '5min'\n",
    "suffix = '5min_20160103_20190405'\n",
    "\n",
    "# Feed\n",
    "df = pd.read_parquet(os.path.join(\n",
    "        '../data/processed/{}/'.format(folder_name), \n",
    "        '{}_{}.parquet'.format(fname_symbol, suffix)\n",
    "    ))\n",
    "df = (df.resample('4h', label='left', base=18).agg({\n",
    "        'Open': 'first', \n",
    "        'High': 'max', \n",
    "        'Low': 'min', \n",
    "        'Close': 'last', \n",
    "        'Volume': 'sum'\n",
    "    }))\n",
    "df.columns = [col_name.lower() for col_name in df.columns]\n",
    "df = df.dropna()\n",
    "\n",
    "# Set working datasets\n",
    "data = math.floor(len(df) *.2)\n",
    "InSampleData = bt.feeds.PandasData(dataname = df.iloc[0:(len(df) - data)])\n",
    "OOSData = bt.feeds.PandasData(dataname = df.iloc[(len(df) - data):])\n",
    "\n",
    "# Setup Cerebro\n",
    "cerebro.adddata(InSampleData)\n",
    "\n",
    "cerebro.broker.setcash(100000.0)\n",
    "cerebro.addsizer(bt.sizers.FixedSize, stake=1000)\n",
    "cerebro.broker.set_slippage_fixed(.01)\n",
    "\n",
    "cerebro.addanalyzer(bt.analyzers.SharpeRatio, _name='mysharpe')\n",
    "cerebro.addanalyzer(bt.analyzers.DrawDown, _name='drawdown')\n",
    "\n",
    "# Run output & Plotting\n",
    "print('Starting Portfolio Value: %.2f' % cerebro.broker.getvalue())\n",
    "cerebro.run()\n",
    "print('Final Portfolio Value: %.2f' % cerebro.broker.getvalue())\n",
    "\n",
    "#cerebro.plot(volume=False , iplot=True)"
   ]
  },
  {
   "cell_type": "markdown",
   "metadata": {},
   "source": [
    "# SMA Strategy Test (In Sample)\n",
    "Using the same dataset as before (in-sample), run a baseline SMA strategy."
   ]
  },
  {
   "cell_type": "code",
   "execution_count": null,
   "metadata": {
    "pycharm": {
     "is_executing": false,
     "name": "#%%\n"
    }
   },
   "outputs": [],
   "source": [
    "# Initialization & strategy\n",
    "cerebro = bt.Cerebro()\n",
    "cerebro.addstrategy(SMAC)\n",
    "\n",
    "# Setup Cerebro\n",
    "cerebro.adddata(InSampleData)\n",
    "\n",
    "cerebro.broker.setcash(100000.0)\n",
    "cerebro.broker.set_slippage_fixed(.01)\n",
    "cerebro.addsizer(bt.sizers.FixedSize, stake=1000)\n",
    "\n",
    "# Print out the starting conditions\n",
    "print('Starting Portfolio Value: %.2f' % cerebro.broker.getvalue())\n",
    "\n",
    "# Run over everything\n",
    "cerebro.run()\n",
    "\n",
    "# Print out the final result\n",
    "print('Final Portfolio Value: %.2f' % cerebro.broker.getvalue())\n",
    "cerebro.plot(volume=False , iplot=True)"
   ]
  },
  {
   "cell_type": "markdown",
   "metadata": {},
   "source": [
    "# In-sample Optimization\n",
    "Generate random combinations of fast and slow window lengths to test"
   ]
  },
  {
   "cell_type": "code",
   "execution_count": null,
   "metadata": {
    "pycharm": {
     "is_executing": false,
     "name": "#%%\n"
    }
   },
   "outputs": [],
   "source": [
    "# Avoids duplication\n",
    "windowset = set()\n",
    "\n",
    "# Generate a bunch time windows for comparison.\n",
    "# This will be used within the analyzer to get the 'best' strategy.\n",
    "while len(windowset) < 40:\n",
    "    f = random.randint(1, 10) * 5\n",
    "    s = random.randint(1, 10) * 10\n",
    "    if f > s:    # Cannot have the fast moving average have a longer window than the slow, so swap\n",
    "        f, s = s, f\n",
    "    elif f == s:    # Cannot be equal, so do nothing, discarding results\n",
    "        pass\n",
    "    windowset.add((f, s))\n",
    " \n",
    "windows = list(windowset)\n",
    "windows\n",
    "\n",
    "# Create a cerebro entity\n",
    "cerebro = bt.Cerebro(maxcpus=3)\n",
    "strategies = cerebro.optstrategy(\n",
    "    SMAC, \n",
    "    optim=True, \n",
    "    optim_fs=windows\n",
    ")\n",
    "\n",
    "# Setup Cerebro\n",
    "cerebro.adddata(InSampleData)\n",
    "\n",
    "cerebro.broker.setcash(100000.0)\n",
    "cerebro.addsizer(bt.sizers.FixedSize, stake=1000)\n",
    "cerebro.broker.set_slippage_fixed(.01)\n",
    "\n",
    "#Analyzer\n",
    "cerebro.addanalyzer(AcctStats)\n",
    "\n",
    "\n",
    "%time res = cerebro.run()\n",
    "\n",
    "# Store results of optimization in a DataFrame\n",
    "return_opt = DataFrame({r[0].params.optim_fs: r[0].analyzers.acctstats.get_analysis() for r in res}\n",
    "                      ).T.loc[:, ['start','end', 'growth', 'return', 'trades']]\n",
    "\n",
    "# Sort my highest growth. This should be our best parameters to test against OOS.\n",
    "ret = return_opt.sort_values(\"growth\", ascending=False)\n",
    "ret"
   ]
  },
  {
   "cell_type": "markdown",
   "metadata": {},
   "source": [
    "# Optimized In Sample"
   ]
  },
  {
   "cell_type": "code",
   "execution_count": null,
   "metadata": {},
   "outputs": [],
   "source": [
    "# using the best params from above, start plotting and displaying the info.\n",
    "fast_opt, slow_opt = ret.iloc[0].name\n",
    "\n",
    "optimized = bt.Cerebro()\n",
    "optimized.adddata(InSampleData)\n",
    "optimized.broker.setcash(100000.0)\n",
    "optimized.addsizer(bt.sizers.FixedSize, stake=1000)\n",
    "optimized.broker.set_slippage_fixed(.01)\n",
    "optimized.addstrategy(SMAC, fast=fast_opt, slow=slow_opt)\n",
    "\n",
    "optimized.addanalyzer(bt.analyzers.SharpeRatio, _name='sharpe')\n",
    "optimized.addanalyzer(bt.analyzers.DrawDown, _name='drawdown')\n",
    "optimized.addanalyzer(AcctStats, _name='custom')\n",
    "\n",
    "# Run over everything\n",
    "res = optimized.run()\n",
    "ISsharpe = res[0].analyzers.sharpe.get_analysis()\n",
    "ISdrawdown = res[0].analyzers.drawdown.get_analysis()\n",
    "\n",
    "# Print out the starting conditions\n",
    "print('Starting Portfolio Value: %.2f' % optimized.broker.getvalue())\n",
    "print('Final Portfolio Value: %.2f' % optimized.broker.getvalue())"
   ]
  },
  {
   "cell_type": "code",
   "execution_count": null,
   "metadata": {},
   "outputs": [],
   "source": [
    "#optimized.plot(iplot=True, volume=False)"
   ]
  },
  {
   "cell_type": "markdown",
   "metadata": {},
   "source": [
    "# Out of Sample "
   ]
  },
  {
   "cell_type": "code",
   "execution_count": null,
   "metadata": {
    "pycharm": {
     "name": "#%%\n"
    }
   },
   "outputs": [],
   "source": [
    "cerebro = bt.Cerebro()\n",
    "cerebro.addstrategy(SMAC, fast=fast_opt, slow=slow_opt)\n",
    "cerebro.adddata(OOSData)\n",
    "cerebro.broker.setcash(100000.0)\n",
    "cerebro.broker.set_slippage_fixed(.01)\n",
    "cerebro.addsizer(bt.sizers.FixedSize, stake=1000)\n",
    "\n",
    "cerebro.addanalyzer(bt.analyzers.SharpeRatio, _name='sharpe')\n",
    "cerebro.addanalyzer(bt.analyzers.DrawDown, _name='drawdown')\n",
    "cerebro.addanalyzer(AcctStats, _name='custom')\n",
    "\n",
    "\n",
    "\n",
    "# Run over everything\n",
    "OOSresults = cerebro.run()\n",
    "\n",
    "\n",
    "OOSsharpe = OOSresults[0].analyzers.sharpe.get_analysis()\n",
    "OOSdrawdown = OOSresults[0].analyzers.drawdown.get_analysis()\n",
    "\n",
    "print('Starting Portfolio Value: %.2f' % cerebro.broker.getvalue())\n",
    "print('Final Portfolio Value: %.2f' % cerebro.broker.getvalue())"
   ]
  },
  {
   "cell_type": "code",
   "execution_count": null,
   "metadata": {},
   "outputs": [],
   "source": [
    "#cerebro.plot(volume=True , iplot=True)"
   ]
  },
  {
   "cell_type": "code",
   "execution_count": null,
   "metadata": {},
   "outputs": [],
   "source": [
    "print(\"In Sample Sharpe\")\n",
    "print(res[0].analyzers.sharpe.get_analysis())\n",
    "\n",
    "print(\"Out of Sample Sharpe\")\n",
    "print(OOSresults[0].analyzers.sharpe.get_analysis())"
   ]
  },
  {
   "cell_type": "code",
   "execution_count": null,
   "metadata": {},
   "outputs": [],
   "source": []
  }
 ],
 "metadata": {
  "kernelspec": {
   "display_name": "Python 3",
   "language": "python",
   "name": "python3"
  },
  "language_info": {
   "codemirror_mode": {
    "name": "ipython",
    "version": 3
   },
   "file_extension": ".py",
   "mimetype": "text/x-python",
   "name": "python",
   "nbconvert_exporter": "python",
   "pygments_lexer": "ipython3",
   "version": "3.7.3"
  },
  "pycharm": {
   "stem_cell": {
    "cell_type": "raw",
    "metadata": {
     "collapsed": false
    },
    "source": []
   }
  },
  "toc": {
   "base_numbering": 1,
   "nav_menu": {},
   "number_sections": true,
   "sideBar": true,
   "skip_h1_title": false,
   "title_cell": "Table of Contents",
   "title_sidebar": "Contents",
   "toc_cell": false,
   "toc_position": {},
   "toc_section_display": true,
   "toc_window_display": false
  }
 },
 "nbformat": 4,
 "nbformat_minor": 2
}
