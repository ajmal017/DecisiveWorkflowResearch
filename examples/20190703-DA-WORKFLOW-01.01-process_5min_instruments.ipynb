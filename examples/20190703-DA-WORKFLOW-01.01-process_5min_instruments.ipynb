{
 "cells": [
  {
   "cell_type": "markdown",
   "metadata": {},
   "source": [
    "# Processing\n",
    "\n",
    "This notebook processes raw csv files into binary files (parquet) for portability purposes.\n",
    "\n",
    "If you'd like more symbols processed in this format, just drop me a note in the server"
   ]
  },
  {
   "cell_type": "code",
   "execution_count": null,
   "metadata": {},
   "outputs": [],
   "source": [
    "import pandas as pd\n",
    "import pyarrow as pa\n",
    "import pyarrow.parquet as pq\n",
    "import os\n",
    "\n",
    "demo = True\n",
    "folder_name = 'demo' if demo else '5min'\n",
    "suffix = 'demo' if demo else '5min_20160103_20190405'\n",
    "symbols = ['CL', 'GC', 'ES']"
   ]
  },
  {
   "cell_type": "markdown",
   "metadata": {},
   "source": [
    "## Helper Methods for Cleaning and Processing Data"
   ]
  },
  {
   "cell_type": "code",
   "execution_count": null,
   "metadata": {},
   "outputs": [],
   "source": [
    "def clean_data(data):\n",
    "    \"\"\"Process date and time into index, and Combine up and down volumes\n",
    "    \n",
    "    Format is:\n",
    "        \"Date\",\"Time\",\"Open\",\"High\",\"Low\",\"Close\",\"Up\",\"Down\"\n",
    "        01/03/2016,18:05,52.18,52.90,52.18,52.69,2790,1543\n",
    "    \"\"\"\n",
    "    data.index = pd.to_datetime(data['Date'] + ' ' + data['Time'])\n",
    "    data['Volume'] = data['Up'] + data['Down']\n",
    "    data = data.drop(['Date', 'Time', 'Up', 'Down'], axis=1)\n",
    "    \n",
    "    return data\n",
    "\n",
    "def process_data(data, fname_symbol, folder_name, suffix):\n",
    "    table = pa.Table.from_pandas(data, preserve_index=True)\n",
    "    output = '{}_{}.parquet'.format(fname_symbol, suffix)\n",
    "    pq.write_table(table, '../data/processed/{}/{}'.format(folder_name, output))\n",
    "    print('Wrote {}'.format(output))"
   ]
  },
  {
   "cell_type": "markdown",
   "metadata": {},
   "source": [
    "## Convert the CSV to dataframes and validate the filepaths"
   ]
  },
  {
   "cell_type": "code",
   "execution_count": null,
   "metadata": {},
   "outputs": [],
   "source": [
    "for fname_symbol in symbols:\n",
    "    # Process\n",
    "    data = pd.read_csv('../data/raw/{}/{}_{}.txt'.format(folder_name, fname_symbol, suffix))\n",
    "    data = clean_data(data)\n",
    "    process_data(data, fname_symbol, folder_name, suffix)\n",
    "\n",
    "    # Read back\n",
    "    df = pd.read_parquet(os.path.join('../data/processed/{}/'.format(folder_name), '{}_{}.parquet'.format(fname_symbol, suffix)))\n",
    "    print(df.shape)"
   ]
  }
 ],
 "metadata": {
  "kernelspec": {
   "display_name": "Python 3",
   "language": "python",
   "name": "python3"
  },
  "language_info": {
   "codemirror_mode": {
    "name": "ipython",
    "version": 3
   },
   "file_extension": ".py",
   "mimetype": "text/x-python",
   "name": "python",
   "nbconvert_exporter": "python",
   "pygments_lexer": "ipython3",
   "version": "3.6.8"
  },
  "toc": {
   "base_numbering": 1,
   "nav_menu": {},
   "number_sections": true,
   "sideBar": true,
   "skip_h1_title": false,
   "title_cell": "Table of Contents",
   "title_sidebar": "Contents",
   "toc_cell": false,
   "toc_position": {},
   "toc_section_display": true,
   "toc_window_display": false
  }
 },
 "nbformat": 4,
 "nbformat_minor": 2
}
